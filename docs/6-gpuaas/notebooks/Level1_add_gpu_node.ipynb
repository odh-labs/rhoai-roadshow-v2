{
 "cells": [
  {
   "cell_type": "markdown",
   "id": "b0bfa248-2241-4cb8-956a-d2e00afd02e4",
   "metadata": {},
   "source": [
    "# Level 1: GPU concurrency\n",
    "\n",
    "This section introduces GPU scaling and workload management in an OpenShift cluster. Many workloads benefit from sharing GPU resources to improve utilisation:\n",
    "\n",
    "- Low-batch inference serving that processes one input at a time  \n",
    "- High-performance computing (HPC) applications that split work between the CPU (for input handling) and the GPU (for computation)  \n",
    "- Interactive development in Jupyter Notebooks (the focus of this lab)  \n",
    "- Spark- or Ray-based data analytics, where small tasks run concurrently and gain from higher GPU utilisation  \n",
    "- Visualisation or offline rendering workloads that generate burst traffic  \n",
    "- Continuous integration and continuous delivery (CI/CD) pipelines that use any available GPU for testing  \n",
    "\n",
    "## Cluster overview\n",
    "\n",
    "The lab uses a Single Node OpenShift (SNO) deployment. In the web console, navigate to **Compute → Nodes** to view node details.\n",
    "\n",
    "<img src=\"images/ocp-node-sno.png\"\n",
    "     alt=\"OpenShift node details for the SNO deployment\"\n",
    "     style=\"width:100%;\">\n",
    "\n",
    "| Instance type | vCPUs | Memory (GiB) | NVIDIA L4 GPUs | GPU memory (GiB) | Network bandwidth (Gbps) | EBS bandwidth (Gbps) |\n",
    "| ------------- | ----- | ------------ | -------------- | ---------------- | ------------------------ | -------------------- |\n",
    "| g6.8xlarge    | 32    | 128          | 1              | 24               | 25                       | 16                   |\n",
    "\n",
    "The **g6.8xlarge** instance includes a single **NVIDIA L4** GPU with 24 GiB of VRAM.\n",
    "\n",
    "> **Rule of thumb**: A large language model (LLM) with 1 billion parameters stored in FP32 format requires roughly 4 GiB of GPU memory. Each parameter occupies 4 bytes.\n",
    "\n",
    "For example, the **Llama 405B** model needs eleven 80 GiB GPUs when loaded in FP16. (Source: Nir Shavit, MIT and Neural Magic.)\n",
    "\n",
    "<img src=\"images/llama-405b.png\"\n",
    "     alt=\"Llama 405B GPU requirements\"\n",
    "     style=\"width:75%;\">\n",
    "\n",
    "The size of the model loaded into vRAM can be estimated using the following formula:\n",
    "\n",
    "<img src=\"images/model-sizing-formula.png\"\n",
    "     alt=\"Model Sizing Formula\"\n",
    "     style=\"width:50%;\">\n",
    "\n",
    "\n",
    "| Symbol | Description                                     |\n",
    "|--------|-------------------------------------------------|\n",
    "| M      | GPU memory                                      |\n",
    "| P      | The number of parameters in the model           |\n",
    "| 4b     | 4 bytes, the bytes used for each parameter      |\n",
    "| 32     | There are 32 bits in 4 bytes                    |\n",
    "| Q      | Bits for loading the model 16, 8 or 4 bits      |\n",
    "| 1.2    | Represents a 20% overhead for additional stuff  |\n",
    "\n",
    "For example, the [Granite 3.3 8B Instruct](https://huggingface.co/ibm-granite/granite-3.3-8b-instruct/tree/main) is an 8 billion parameter model and is fp16, so the calculation would be:\n",
    "\n",
    "```\n",
    "(((8*10^9*4)/(32/16))*1.2) / 1024^3 = 17.9 Gb\n",
    "```\n",
    "\n",
    "Large LLMs can span multiple GPUs on a single instance or multiple instances across the cluster. For details on AWS accelerated instances, see the [EC2 instance types](https://aws.amazon.com/ec2/instance-types/).\n",
    "\n",
    "The [NVIDIA L4](https://www.nvidia.com/en-us/data-center/l4/) is an entry-level, cost-effective GPU based on the [Ada Lovelace architecture](https://www.nvidia.com/en-us/technologies/ada-architecture/).\n",
    "\n",
    "## Scaling options\n",
    "\n",
    "You can add GPU capacity in several ways:\n",
    "\n",
    "1. **Vertical scaling**: Reinstall OpenShift on a larger instance that contains multiple GPUs—for example, a g6.12xlarge (4× L4) or g6.48xlarge (8× L4).  \n",
    "2. **Larger accelerators**: Choose instances that provide higher-end GPUs such as P4, P5, or P6 families (Blackwell, Hopper, or Ampere architectures).  \n",
    "3. **Horizontal scaling** (lab focus): Add worker nodes that each include one or more GPUs.  \n",
    "4. **Alternative vendors**: Use non-NVIDIA GPUs. OpenShift supports multiple accelerator types, but this lab uses NVIDIA hardware exclusively.\n",
    "\n",
    "Before you decide how to scale, review workload requirements - especially GPU memory needs - to ensure that you select the most appropriate instance type and accelerator."
   ]
  },
  {
   "cell_type": "markdown",
   "id": "7676aaa0",
   "metadata": {},
   "source": [
    "For this configuration to take affect, we need to label our node with the device plugin config for the A10."
   ]
  },
  {
   "cell_type": "markdown",
   "id": "986a59a4-65b7-4f27-b398-c76d7bc8c26c",
   "metadata": {},
   "source": [
    "## GPU Sharing\n",
    "\n",
    "GPU sharing is a technique that allows multiple workloads to share a GPU. This is useful for small workloads that don't require full GPU power simultaneously. This can be broken down into three main components: \n",
    "\n",
    "- Time-slicing\n",
    "- Multi-Instance GPUs (MIG)\n",
    "- CUDA Multi-Process Service (MPS)\n",
    "\n",
    "Different applications have different computational requirements when it comes to GPU's. Training giant AI models where the GPUs batch process hundreds of data samples in parallel, keeps the GPUs fully utilized during the training process. However, many other application types may only require a fraction of the GPU compute, thereby resulting in underutilization of the massive computational power.\n",
    "\n",
    "<img src=\"images/gpu-concurrency.png\"\n",
    "     alt=\"GPU concurrency options\"\n",
    "     style=\"width:50%;\">\n",
    "\n",
    "[Read this blog post](https://developer.nvidia.com/blog/improving-gpu-utilization-in-kubernetes/) to get a good understanding of these different types of sharing in depth.\n",
    "\n",
    "If our OpenShift cluster was deployed on VM's we could consider using vGPU (e.g. OpenShift Virt, VMWare). Since we are in AWS we can consider using **time-slicing** or **MIG** depending on the type of accelerator cards we have available.\n",
    "\n",
    "Here are some Pros and Cons of GPU Sharing Methods.\n",
    "\n",
    "<img src=\"images/gpu-accel-capability.png\"\n",
    "     alt=\"GPU accelerator capability\"\n",
    "     style=\"width:50%;\">\n",
    "\n",
    "**MIG** gives the highest level of physical workload partitioning but is only avaialable on the (more expensize) Blackwell, Hopper, Ampere architecture. See [here for a full list](https://docs.nvidia.com/datacenter/tesla/mig-user-guide/index.html) of cards supporting MIG.\n",
    "\n",
    "**Time-Slicing** is available with all GPU cards, but does not have the same level of isolation. Think of it like cpu based process sharing.\n",
    "\n",
    "**The Multi-Process Service (MPS)** is an alternative, binary-compatible implementation of the CUDA Application Programming Interface (API). MPS enables multiple CUDA applications to run concurrently on the same GPU, improving overall GPU utilization and performance. MPS is not currently supported on OpenShift.\n",
    "\n",
    "We are going to use **time-slicing** in this exercise. \n",
    "\n",
    "This approach is particularly valuable for:\n",
    "\n",
    "* **AI inference workloads** that don't fully utilize GPU resources\n",
    "* **Development and testing environments** requiring flexible GPU access\n",
    "* **Multi-tenant scenarios** where isolation requirements are less stringent\n",
    "* **Edge deployments** with limited GPU resources\n",
    "* **Cost optimization** by maximizing GPU utilization\n",
    "\n",
    "Timeslicing enables organizations to dramatically improve GPU utilization while reducing costs, making AI workloads more accessible and economical.\n",
    "\n",
    "vLLM (our inference serving engine in RHOAI, RHAIIS) provides some useful benefit when using timeslicing:\n",
    "\n",
    "* **Multiple Model Serving**: Different vLLM instances can serve different models on the same GPU\n",
    "* **Improved Throughput**: Better utilization through temporal multiplexing\n",
    "* **Cost Reduction**: Serve more models with fewer GPUs\n",
    "* **Flexibility**: Dynamic allocation of GPU resources based on demand\n",
    "\n",
    "We are going to prove out the single-gpu-per-node, multi-node example in this lab. There are lots of more advanced scenarios to keep in mind that we are setting the ground work for here.\n",
    "\n",
    "* Deploy multiple vLLM instances serving different models\n",
    "* Implement cost optimization strategies using timeslicing\n",
    "* Configure mixed workloads (training and inference)\n",
    "* Set up auto-scaling based on GPU utilization metrics\n",
    "\n",
    "OK - so let's choose a different AWS [instance type](https://aws.amazon.com/ec2/instance-types/) to scale our cluster out with. The **g5.xlarge** looks OK.\n",
    "\n",
    "|Instance Name | vCPUs | Memory (GiB) | NVIDIA A10 GPU | GPU Memory (GiB) | Network Bandwidth (Gbps) | EBS Bandwidth (Gbps) |\n",
    "|--------------|-------|--------------|----------------|------------------|--------------------------|----------------------|\n",
    "|  g5.xlarge   |   4   |      16      |\t      1        |\t      24\t     |           10\t            |          3.5         |\n",
    "\n",
    "We see we have a **g5.xlarge** instance that comes with a single **NVIDIA A10G** [GPU](https://www.nvidia.com/en-au/data-center/products/a10-gpu/) that has 24 GiB of NVRAM."
   ]
  },
  {
   "cell_type": "markdown",
   "id": "2d7273d9-9e27-47f8-8717-6a64303e9088",
   "metadata": {},
   "source": [
    "## Scaling OpenShift - Adding a GPU worker node to OpenShift in AWS\n",
    "\n",
    "We could redeploy our cluster with an instance that supports more GPUs - this would take a bit of time. A quicker option is to make use of OpenShift's in-built \n",
    "cluster scaling ability. If you browse to the OpenShift Console > Compute > MachineSet you will see there are three machine set's already defined.\n",
    "\n",
    "<img src=\"images/machine-sets-ootb.png\"\n",
    "     alt=\"Available MachineSets\"\n",
    "     style=\"width:75%;\">\n",
    "\n",
    "These were setup when we deployed our Single Node OpenShift instace. They use non-GPU enabled instance types."
   ]
  },
  {
   "cell_type": "markdown",
   "id": "8d947de1-29d9-488a-b9de-bb5056bfc303",
   "metadata": {},
   "source": [
    "Let's install a couple of python dependecies we are going to use in this notebook."
   ]
  },
  {
   "cell_type": "code",
   "execution_count": null,
   "id": "0e4c58f7",
   "metadata": {},
   "outputs": [],
   "source": [
    "!pip install uv"
   ]
  },
  {
   "cell_type": "code",
   "execution_count": null,
   "id": "d912ffbc-a603-4398-a419-cf36ca772f4d",
   "metadata": {},
   "outputs": [
    {
     "name": "stdout",
     "output_type": "stream",
     "text": [
      "Collecting rich\n",
      "  Downloading rich-14.0.0-py3-none-any.whl.metadata (18 kB)\n",
      "Collecting jq\n",
      "  Downloading jq-1.9.1-cp311-cp311-manylinux_2_17_x86_64.manylinux2014_x86_64.whl.metadata (7.0 kB)\n",
      "Collecting markdown-it-py>=2.2.0 (from rich)\n",
      "  Downloading markdown_it_py-3.0.0-py3-none-any.whl.metadata (6.9 kB)\n",
      "Requirement already satisfied: pygments<3.0.0,>=2.13.0 in /opt/app-root/lib64/python3.11/site-packages (from rich) (2.19.1)\n",
      "Collecting mdurl~=0.1 (from markdown-it-py>=2.2.0->rich)\n",
      "  Downloading mdurl-0.1.2-py3-none-any.whl.metadata (1.6 kB)\n",
      "Downloading rich-14.0.0-py3-none-any.whl (243 kB)\n",
      "Downloading jq-1.9.1-cp311-cp311-manylinux_2_17_x86_64.manylinux2014_x86_64.whl (754 kB)\n",
      "\u001b[2K   \u001b[90m━━━━━━━━━━━━━━━━━━━━━━━━━━━━━━━━━━━━━━━━\u001b[0m \u001b[32m754.3/754.3 kB\u001b[0m \u001b[31m58.2 MB/s\u001b[0m eta \u001b[36m0:00:00\u001b[0m\n",
      "\u001b[?25hDownloading markdown_it_py-3.0.0-py3-none-any.whl (87 kB)\n",
      "Downloading mdurl-0.1.2-py3-none-any.whl (10.0 kB)\n",
      "Installing collected packages: mdurl, jq, markdown-it-py, rich\n",
      "Successfully installed jq-1.9.1 markdown-it-py-3.0.0 mdurl-0.1.2 rich-14.0.0\n",
      "\n",
      "\u001b[1m[\u001b[0m\u001b[34;49mnotice\u001b[0m\u001b[1;39;49m]\u001b[0m\u001b[39;49m A new release of pip is available: \u001b[0m\u001b[31;49m24.2\u001b[0m\u001b[39;49m -> \u001b[0m\u001b[32;49m25.1.1\u001b[0m\n",
      "\u001b[1m[\u001b[0m\u001b[34;49mnotice\u001b[0m\u001b[1;39;49m]\u001b[0m\u001b[39;49m To update, run: \u001b[0m\u001b[32;49mpip install --upgrade pip\u001b[0m\n"
     ]
    }
   ],
   "source": [
    "!uv pip install rich jq"
   ]
  },
  {
   "cell_type": "markdown",
   "id": "ffa609ff-3a5c-48fc-ba61-8d49e42aa55e",
   "metadata": {},
   "source": [
    "## Log on to the OpenShift cluster so we can add a new node\n",
    "\n",
    "Now login to OpenShift using the command line. Make sure you have these variable set in your environment."
   ]
  },
  {
   "cell_type": "code",
   "execution_count": null,
   "id": "6613266b-27e7-4a4f-9c6d-424ec6a153fe",
   "metadata": {},
   "outputs": [
    {
     "name": "stdout",
     "output_type": "stream",
     "text": [
      "WARNING: Using insecure TLS client config. Setting this option is not supported!\n",
      "\n",
      "Login successful.\n",
      "\n",
      "You have access to 106 projects, the list has been suppressed. You can list all projects with 'oc projects'\n",
      "\n",
      "Using project \"ai-roadshow\".\n",
      "Welcome! See 'oc help' to get started.\n"
     ]
    }
   ],
   "source": [
    "!oc login -u admin -p ${ADMIN_PASSWORD} --server=https://api.${BASE_DOMAIN}:6443 --insecure-skip-tls-verify"
   ]
  },
  {
   "cell_type": "markdown",
   "id": "660b6c28-7107-4292-b702-ba78175dde98",
   "metadata": {},
   "source": [
    "## Review the existing Machine in the cluster\n",
    "Now we can take a look at the machine that forms our Single Node OpenShift cluster.\n",
    "\n",
    "Observe the master node's: TYPE, REGION and ZONE that it is running in."
   ]
  },
  {
   "cell_type": "code",
   "execution_count": 3,
   "id": "7f4c41da-44e7-4965-b368-96e650613978",
   "metadata": {},
   "outputs": [
    {
     "name": "stdout",
     "output_type": "stream",
     "text": [
      "NAMESPACE               NAME                 PHASE     TYPE         REGION      ZONE         AGE\n",
      "openshift-machine-api   sno-5dqmr-master-0   Running   g6.8xlarge   us-east-2   us-east-2a   4d19h\n"
     ]
    }
   ],
   "source": [
    "!oc get machines.machine.openshift.io -A"
   ]
  },
  {
   "cell_type": "markdown",
   "id": "9efaa421-e0cb-4c5f-b98b-f0e91a54ef1d",
   "metadata": {},
   "source": [
    "### Review the results\n",
    "We can see our master node which is a g6.8xlarge instance, as well as the AWS Region and Zone it is running in.\n",
    "\n",
    "The Region **us-east-2** has 3 available availability zones (AZ's) - us-east-2a, us-east-2b, us-east-2c\n",
    "\n",
    "The Region **ap-southeast-2** has 3 available availability zones (AZ's) - ap-southeast-2a, ap-southeast-2b, ap-southeast-2c\n",
    "\n",
    "# Review the MachineSets\n",
    "\n",
    "MachineSets define the types of Machines that can be added to the OpenShift cluster - think of these as a template for creating new Machines. \n",
    "\n",
    "These are part of the Machine API, which automates the management of machines within an OpenShift cluster. Essentially, it acts as a controller, automatically creating, updating, or deleting machines to match the defined configuration."
   ]
  },
  {
   "cell_type": "code",
   "execution_count": 4,
   "id": "268a7a6a-0cb4-4376-b191-56275fb01ad6",
   "metadata": {},
   "outputs": [
    {
     "name": "stdout",
     "output_type": "stream",
     "text": [
      "NAMESPACE               NAME                          DESIRED   CURRENT   READY   AVAILABLE   AGE\n",
      "openshift-machine-api   sno-5dqmr-worker-us-east-2a   0         0                             4d19h\n",
      "openshift-machine-api   sno-5dqmr-worker-us-east-2b   0         0                             4d19h\n",
      "openshift-machine-api   sno-5dqmr-worker-us-east-2c   0         0                             4d19h\n"
     ]
    }
   ],
   "source": [
    "!oc get machineset.machine.openshift.io -A"
   ]
  },
  {
   "cell_type": "markdown",
   "id": "a09895b1-2ae7-48d7-8399-881f8fc946a3",
   "metadata": {},
   "source": [
    "## Create a new MachineSet specification from the existing MachineSets\n",
    "Each ZONE within a REGION has its own MachineSet.\n",
    "\n",
    "We are going to create a new GPU enabled machine set. We can choose any of the available ZONEs in our REGION.\n",
    "\n",
    "Lets use the same ZONE out current note is running in to dump out the configuration to a file. Choose the MachineSet `NAME` from above that matches your ZONE and replace it in the following code. E.g.:\n",
    "\n",
    "`%env SOURCE_MACHINESET=<paste a machine set here from the NAME column in the previous step>`"
   ]
  },
  {
   "cell_type": "code",
   "execution_count": 5,
   "id": "7cd58d98-4910-4ab0-9c0f-20fc6081d34d",
   "metadata": {},
   "outputs": [
    {
     "name": "stdout",
     "output_type": "stream",
     "text": [
      "env: SOURCE_MACHINESET=sno-5dqmr-worker-us-east-2a\n"
     ]
    }
   ],
   "source": [
    "%env SOURCE_MACHINESET=sno-5dqmr-worker-us-east-2a\n",
    "!oc -n openshift-machine-api get -o json machineset.machine.openshift.io $SOURCE_MACHINESET > source-machineset.json"
   ]
  },
  {
   "cell_type": "markdown",
   "id": "d1374c73-a9cc-4e80-a5ec-5a0438ed9fbf",
   "metadata": {},
   "source": [
    "## Edit the MachineSet to create the new node with an NVIDIA A10 GPU\n",
    "The YAML for the MachineSet is very long and complex. To save you the difficulty of editing this we have created a small script to automate taking an existing MachineSet and repurposing it to creaye our new node with an A10 GPU.\n",
    "\n",
    "We are going to change a few settings using rhe **jq** library so they match your environment !\n",
    "- the new GPU instance type **g5.xlarge** which has an NVIDIA A10 GPU\n",
    "- and a new MachineSet **name** = sno-5dqmr-worker-us-east-2a-gpu **<== EDIT** the cell below to match the machine set name you want\n",
    "- set the machine **replicas** to 1"
   ]
  },
  {
   "cell_type": "code",
   "execution_count": 6,
   "id": "8173461a-c10f-4472-8176-8b12522df7ad",
   "metadata": {},
   "outputs": [
    {
     "data": {
      "text/html": [
       "<pre style=\"white-space:pre;overflow-x:auto;line-height:normal;font-family:Menlo,'DejaVu Sans Mono',consolas,'Courier New',monospace\"><span style=\"font-weight: bold\">[</span>\n",
       "    <span style=\"font-weight: bold\">{</span>\n",
       "        <span style=\"color: #008000; text-decoration-color: #008000\">'apiVersion'</span>: <span style=\"color: #008000; text-decoration-color: #008000\">'machine.openshift.io/v1beta1'</span>,\n",
       "        <span style=\"color: #008000; text-decoration-color: #008000\">'kind'</span>: <span style=\"color: #008000; text-decoration-color: #008000\">'MachineSet'</span>,\n",
       "        <span style=\"color: #008000; text-decoration-color: #008000\">'metadata'</span>: <span style=\"font-weight: bold\">{</span>\n",
       "            <span style=\"color: #008000; text-decoration-color: #008000\">'annotations'</span>: <span style=\"font-weight: bold\">{</span>\n",
       "                <span style=\"color: #008000; text-decoration-color: #008000\">'capacity.cluster-autoscaler.kubernetes.io/labels'</span>: <span style=\"color: #008000; text-decoration-color: #008000\">'kubernetes.io/arch=amd64'</span>,\n",
       "                <span style=\"color: #008000; text-decoration-color: #008000\">'machine.openshift.io/GPU'</span>: <span style=\"color: #008000; text-decoration-color: #008000\">'0'</span>,\n",
       "                <span style=\"color: #008000; text-decoration-color: #008000\">'machine.openshift.io/memoryMb'</span>: <span style=\"color: #008000; text-decoration-color: #008000\">'16384'</span>,\n",
       "                <span style=\"color: #008000; text-decoration-color: #008000\">'machine.openshift.io/vCPU'</span>: <span style=\"color: #008000; text-decoration-color: #008000\">'4'</span>\n",
       "            <span style=\"font-weight: bold\">}</span>,\n",
       "            <span style=\"color: #008000; text-decoration-color: #008000\">'generation'</span>: <span style=\"color: #008080; text-decoration-color: #008080; font-weight: bold\">1</span>,\n",
       "            <span style=\"color: #008000; text-decoration-color: #008000\">'labels'</span>: <span style=\"font-weight: bold\">{</span><span style=\"color: #008000; text-decoration-color: #008000\">'machine.openshift.io/cluster-api-cluster'</span>: <span style=\"color: #008000; text-decoration-color: #008000\">'sno-5dqmr'</span><span style=\"font-weight: bold\">}</span>,\n",
       "            <span style=\"color: #008000; text-decoration-color: #008000\">'name'</span>: <span style=\"color: #008000; text-decoration-color: #008000\">'sno-5dqmr-worker-us-east-2a-gpu'</span>,\n",
       "            <span style=\"color: #008000; text-decoration-color: #008000\">'namespace'</span>: <span style=\"color: #008000; text-decoration-color: #008000\">'openshift-machine-api'</span>\n",
       "        <span style=\"font-weight: bold\">}</span>,\n",
       "        <span style=\"color: #008000; text-decoration-color: #008000\">'spec'</span>: <span style=\"font-weight: bold\">{</span>\n",
       "            <span style=\"color: #008000; text-decoration-color: #008000\">'replicas'</span>: <span style=\"color: #008080; text-decoration-color: #008080; font-weight: bold\">1</span>,\n",
       "            <span style=\"color: #008000; text-decoration-color: #008000\">'selector'</span>: <span style=\"font-weight: bold\">{</span>\n",
       "                <span style=\"color: #008000; text-decoration-color: #008000\">'matchLabels'</span>: <span style=\"font-weight: bold\">{</span>\n",
       "                    <span style=\"color: #008000; text-decoration-color: #008000\">'machine.openshift.io/cluster-api-cluster'</span>: <span style=\"color: #008000; text-decoration-color: #008000\">'sno-5dqmr'</span>,\n",
       "                    <span style=\"color: #008000; text-decoration-color: #008000\">'machine.openshift.io/cluster-api-machineset'</span>: <span style=\"color: #008000; text-decoration-color: #008000\">'sno-5dqmr-worker-us-east-2a'</span>\n",
       "                <span style=\"font-weight: bold\">}</span>\n",
       "            <span style=\"font-weight: bold\">}</span>,\n",
       "            <span style=\"color: #008000; text-decoration-color: #008000\">'template'</span>: <span style=\"font-weight: bold\">{</span>\n",
       "                <span style=\"color: #008000; text-decoration-color: #008000\">'metadata'</span>: <span style=\"font-weight: bold\">{</span>\n",
       "                    <span style=\"color: #008000; text-decoration-color: #008000\">'labels'</span>: <span style=\"font-weight: bold\">{</span>\n",
       "                        <span style=\"color: #008000; text-decoration-color: #008000\">'machine.openshift.io/cluster-api-cluster'</span>: <span style=\"color: #008000; text-decoration-color: #008000\">'sno-5dqmr'</span>,\n",
       "                        <span style=\"color: #008000; text-decoration-color: #008000\">'machine.openshift.io/cluster-api-machine-role'</span>: <span style=\"color: #008000; text-decoration-color: #008000\">'worker'</span>,\n",
       "                        <span style=\"color: #008000; text-decoration-color: #008000\">'machine.openshift.io/cluster-api-machine-type'</span>: <span style=\"color: #008000; text-decoration-color: #008000\">'worker'</span>,\n",
       "                        <span style=\"color: #008000; text-decoration-color: #008000\">'machine.openshift.io/cluster-api-machineset'</span>: <span style=\"color: #008000; text-decoration-color: #008000\">'sno-5dqmr-worker-us-east-2a'</span>\n",
       "                    <span style=\"font-weight: bold\">}</span>\n",
       "                <span style=\"font-weight: bold\">}</span>,\n",
       "                <span style=\"color: #008000; text-decoration-color: #008000\">'spec'</span>: <span style=\"font-weight: bold\">{</span>\n",
       "                    <span style=\"color: #008000; text-decoration-color: #008000\">'lifecycleHooks'</span>: <span style=\"font-weight: bold\">{}</span>,\n",
       "                    <span style=\"color: #008000; text-decoration-color: #008000\">'metadata'</span>: <span style=\"font-weight: bold\">{}</span>,\n",
       "                    <span style=\"color: #008000; text-decoration-color: #008000\">'providerSpec'</span>: <span style=\"font-weight: bold\">{</span>\n",
       "                        <span style=\"color: #008000; text-decoration-color: #008000\">'value'</span>: <span style=\"font-weight: bold\">{</span>\n",
       "                            <span style=\"color: #008000; text-decoration-color: #008000\">'ami'</span>: <span style=\"font-weight: bold\">{</span><span style=\"color: #008000; text-decoration-color: #008000\">'id'</span>: <span style=\"color: #008000; text-decoration-color: #008000\">'ami-0d4a7b7677c0c883f'</span><span style=\"font-weight: bold\">}</span>,\n",
       "                            <span style=\"color: #008000; text-decoration-color: #008000\">'apiVersion'</span>: <span style=\"color: #008000; text-decoration-color: #008000\">'machine.openshift.io/v1beta1'</span>,\n",
       "                            <span style=\"color: #008000; text-decoration-color: #008000\">'blockDevices'</span>: <span style=\"font-weight: bold\">[</span>\n",
       "                                <span style=\"font-weight: bold\">{</span>\n",
       "                                    <span style=\"color: #008000; text-decoration-color: #008000\">'ebs'</span>: <span style=\"font-weight: bold\">{</span>\n",
       "                                        <span style=\"color: #008000; text-decoration-color: #008000\">'encrypted'</span>: <span style=\"color: #00ff00; text-decoration-color: #00ff00; font-style: italic\">True</span>,\n",
       "                                        <span style=\"color: #008000; text-decoration-color: #008000\">'iops'</span>: <span style=\"color: #008080; text-decoration-color: #008080; font-weight: bold\">0</span>,\n",
       "                                        <span style=\"color: #008000; text-decoration-color: #008000\">'kmsKey'</span>: <span style=\"font-weight: bold\">{</span><span style=\"color: #008000; text-decoration-color: #008000\">'arn'</span>: <span style=\"color: #008000; text-decoration-color: #008000\">''</span><span style=\"font-weight: bold\">}</span>,\n",
       "                                        <span style=\"color: #008000; text-decoration-color: #008000\">'volumeSize'</span>: <span style=\"color: #008080; text-decoration-color: #008080; font-weight: bold\">120</span>,\n",
       "                                        <span style=\"color: #008000; text-decoration-color: #008000\">'volumeType'</span>: <span style=\"color: #008000; text-decoration-color: #008000\">'gp3'</span>\n",
       "                                    <span style=\"font-weight: bold\">}</span>\n",
       "                                <span style=\"font-weight: bold\">}</span>\n",
       "                            <span style=\"font-weight: bold\">]</span>,\n",
       "                            <span style=\"color: #008000; text-decoration-color: #008000\">'capacityReservationId'</span>: <span style=\"color: #008000; text-decoration-color: #008000\">''</span>,\n",
       "                            <span style=\"color: #008000; text-decoration-color: #008000\">'credentialsSecret'</span>: <span style=\"font-weight: bold\">{</span><span style=\"color: #008000; text-decoration-color: #008000\">'name'</span>: <span style=\"color: #008000; text-decoration-color: #008000\">'aws-cloud-credentials'</span><span style=\"font-weight: bold\">}</span>,\n",
       "                            <span style=\"color: #008000; text-decoration-color: #008000\">'deviceIndex'</span>: <span style=\"color: #008080; text-decoration-color: #008080; font-weight: bold\">0</span>,\n",
       "                            <span style=\"color: #008000; text-decoration-color: #008000\">'iamInstanceProfile'</span>: <span style=\"font-weight: bold\">{</span><span style=\"color: #008000; text-decoration-color: #008000\">'id'</span>: <span style=\"color: #008000; text-decoration-color: #008000\">'sno-5dqmr-worker-profile'</span><span style=\"font-weight: bold\">}</span>,\n",
       "                            <span style=\"color: #008000; text-decoration-color: #008000\">'instanceType'</span>: <span style=\"color: #008000; text-decoration-color: #008000\">'g5.xlarge'</span>,\n",
       "                            <span style=\"color: #008000; text-decoration-color: #008000\">'kind'</span>: <span style=\"color: #008000; text-decoration-color: #008000\">'AWSMachineProviderConfig'</span>,\n",
       "                            <span style=\"color: #008000; text-decoration-color: #008000\">'metadata'</span>: <span style=\"font-weight: bold\">{</span><span style=\"color: #008000; text-decoration-color: #008000\">'creationTimestamp'</span>: <span style=\"color: #800080; text-decoration-color: #800080; font-style: italic\">None</span><span style=\"font-weight: bold\">}</span>,\n",
       "                            <span style=\"color: #008000; text-decoration-color: #008000\">'metadataServiceOptions'</span>: <span style=\"font-weight: bold\">{}</span>,\n",
       "                            <span style=\"color: #008000; text-decoration-color: #008000\">'placement'</span>: <span style=\"font-weight: bold\">{</span><span style=\"color: #008000; text-decoration-color: #008000\">'availabilityZone'</span>: <span style=\"color: #008000; text-decoration-color: #008000\">'us-east-2a'</span>, <span style=\"color: #008000; text-decoration-color: #008000\">'region'</span>: <span style=\"color: #008000; text-decoration-color: #008000\">'us-east-2'</span><span style=\"font-weight: bold\">}</span>,\n",
       "                            <span style=\"color: #008000; text-decoration-color: #008000\">'securityGroups'</span>: <span style=\"font-weight: bold\">[</span>\n",
       "                                <span style=\"font-weight: bold\">{</span><span style=\"color: #008000; text-decoration-color: #008000\">'filters'</span>: <span style=\"font-weight: bold\">[{</span><span style=\"color: #008000; text-decoration-color: #008000\">'name'</span>: <span style=\"color: #008000; text-decoration-color: #008000\">'tag:Name'</span>, <span style=\"color: #008000; text-decoration-color: #008000\">'values'</span>: <span style=\"font-weight: bold\">[</span><span style=\"color: #008000; text-decoration-color: #008000\">'sno-5dqmr-node'</span><span style=\"font-weight: bold\">]}]}</span>,\n",
       "                                <span style=\"font-weight: bold\">{</span><span style=\"color: #008000; text-decoration-color: #008000\">'filters'</span>: <span style=\"font-weight: bold\">[{</span><span style=\"color: #008000; text-decoration-color: #008000\">'name'</span>: <span style=\"color: #008000; text-decoration-color: #008000\">'tag:Name'</span>, <span style=\"color: #008000; text-decoration-color: #008000\">'values'</span>: <span style=\"font-weight: bold\">[</span><span style=\"color: #008000; text-decoration-color: #008000\">'sno-5dqmr-lb'</span><span style=\"font-weight: bold\">]}]}</span>\n",
       "                            <span style=\"font-weight: bold\">]</span>,\n",
       "                            <span style=\"color: #008000; text-decoration-color: #008000\">'subnet'</span>: <span style=\"font-weight: bold\">{</span>\n",
       "                                <span style=\"color: #008000; text-decoration-color: #008000\">'filters'</span>: <span style=\"font-weight: bold\">[</span>\n",
       "                                    <span style=\"font-weight: bold\">{</span><span style=\"color: #008000; text-decoration-color: #008000\">'name'</span>: <span style=\"color: #008000; text-decoration-color: #008000\">'tag:Name'</span>, <span style=\"color: #008000; text-decoration-color: #008000\">'values'</span>: <span style=\"font-weight: bold\">[</span><span style=\"color: #008000; text-decoration-color: #008000\">'sno-5dqmr-subnet-private-us-east-2a'</span><span style=\"font-weight: bold\">]}</span>\n",
       "                                <span style=\"font-weight: bold\">]</span>\n",
       "                            <span style=\"font-weight: bold\">}</span>,\n",
       "                            <span style=\"color: #008000; text-decoration-color: #008000\">'tags'</span>: <span style=\"font-weight: bold\">[</span>\n",
       "                                <span style=\"font-weight: bold\">{</span><span style=\"color: #008000; text-decoration-color: #008000\">'name'</span>: <span style=\"color: #008000; text-decoration-color: #008000\">'kubernetes.io/cluster/sno-5dqmr'</span>, <span style=\"color: #008000; text-decoration-color: #008000\">'value'</span>: <span style=\"color: #008000; text-decoration-color: #008000\">'owned'</span><span style=\"font-weight: bold\">}</span>,\n",
       "                                <span style=\"font-weight: bold\">{</span>\n",
       "                                    <span style=\"color: #008000; text-decoration-color: #008000\">'name'</span>: <span style=\"color: #008000; text-decoration-color: #008000\">'description'</span>,\n",
       "                                    <span style=\"color: #008000; text-decoration-color: #008000\">'value'</span>: <span style=\"color: #008000; text-decoration-color: #008000\">'Product Development and Demo environment for OpenShift'</span>\n",
       "                                <span style=\"font-weight: bold\">}</span>,\n",
       "                                <span style=\"font-weight: bold\">{</span><span style=\"color: #008000; text-decoration-color: #008000\">'name'</span>: <span style=\"color: #008000; text-decoration-color: #008000\">'owner'</span>, <span style=\"color: #008000; text-decoration-color: #008000\">'value'</span>: <span style=\"color: #008000; text-decoration-color: #008000\">'ateam@acme.com'</span><span style=\"font-weight: bold\">}</span>,\n",
       "                                <span style=\"font-weight: bold\">{</span><span style=\"color: #008000; text-decoration-color: #008000\">'name'</span>: <span style=\"color: #008000; text-decoration-color: #008000\">'team'</span>, <span style=\"color: #008000; text-decoration-color: #008000\">'value'</span>: <span style=\"color: #008000; text-decoration-color: #008000\">'ateam'</span><span style=\"font-weight: bold\">}</span>,\n",
       "                                <span style=\"font-weight: bold\">{</span><span style=\"color: #008000; text-decoration-color: #008000\">'name'</span>: <span style=\"color: #008000; text-decoration-color: #008000\">'usage'</span>, <span style=\"color: #008000; text-decoration-color: #008000\">'value'</span>: <span style=\"color: #008000; text-decoration-color: #008000\">'Dev'</span><span style=\"font-weight: bold\">}</span>\n",
       "                            <span style=\"font-weight: bold\">]</span>,\n",
       "                            <span style=\"color: #008000; text-decoration-color: #008000\">'userDataSecret'</span>: <span style=\"font-weight: bold\">{</span><span style=\"color: #008000; text-decoration-color: #008000\">'name'</span>: <span style=\"color: #008000; text-decoration-color: #008000\">'worker-user-data'</span><span style=\"font-weight: bold\">}</span>\n",
       "                        <span style=\"font-weight: bold\">}</span>\n",
       "                    <span style=\"font-weight: bold\">}</span>\n",
       "                <span style=\"font-weight: bold\">}</span>\n",
       "            <span style=\"font-weight: bold\">}</span>\n",
       "        <span style=\"font-weight: bold\">}</span>\n",
       "    <span style=\"font-weight: bold\">}</span>\n",
       "<span style=\"font-weight: bold\">]</span>\n",
       "</pre>\n"
      ],
      "text/plain": [
       "\u001b[1m[\u001b[0m\n",
       "    \u001b[1m{\u001b[0m\n",
       "        \u001b[32m'apiVersion'\u001b[0m: \u001b[32m'machine.openshift.io/v1beta1'\u001b[0m,\n",
       "        \u001b[32m'kind'\u001b[0m: \u001b[32m'MachineSet'\u001b[0m,\n",
       "        \u001b[32m'metadata'\u001b[0m: \u001b[1m{\u001b[0m\n",
       "            \u001b[32m'annotations'\u001b[0m: \u001b[1m{\u001b[0m\n",
       "                \u001b[32m'capacity.cluster-autoscaler.kubernetes.io/labels'\u001b[0m: \u001b[32m'kubernetes.io/\u001b[0m\u001b[32march\u001b[0m\u001b[32m=\u001b[0m\u001b[32mamd64\u001b[0m\u001b[32m'\u001b[0m,\n",
       "                \u001b[32m'machine.openshift.io/GPU'\u001b[0m: \u001b[32m'0'\u001b[0m,\n",
       "                \u001b[32m'machine.openshift.io/memoryMb'\u001b[0m: \u001b[32m'16384'\u001b[0m,\n",
       "                \u001b[32m'machine.openshift.io/vCPU'\u001b[0m: \u001b[32m'4'\u001b[0m\n",
       "            \u001b[1m}\u001b[0m,\n",
       "            \u001b[32m'generation'\u001b[0m: \u001b[1;36m1\u001b[0m,\n",
       "            \u001b[32m'labels'\u001b[0m: \u001b[1m{\u001b[0m\u001b[32m'machine.openshift.io/cluster-api-cluster'\u001b[0m: \u001b[32m'sno-5dqmr'\u001b[0m\u001b[1m}\u001b[0m,\n",
       "            \u001b[32m'name'\u001b[0m: \u001b[32m'sno-5dqmr-worker-us-east-2a-gpu'\u001b[0m,\n",
       "            \u001b[32m'namespace'\u001b[0m: \u001b[32m'openshift-machine-api'\u001b[0m\n",
       "        \u001b[1m}\u001b[0m,\n",
       "        \u001b[32m'spec'\u001b[0m: \u001b[1m{\u001b[0m\n",
       "            \u001b[32m'replicas'\u001b[0m: \u001b[1;36m1\u001b[0m,\n",
       "            \u001b[32m'selector'\u001b[0m: \u001b[1m{\u001b[0m\n",
       "                \u001b[32m'matchLabels'\u001b[0m: \u001b[1m{\u001b[0m\n",
       "                    \u001b[32m'machine.openshift.io/cluster-api-cluster'\u001b[0m: \u001b[32m'sno-5dqmr'\u001b[0m,\n",
       "                    \u001b[32m'machine.openshift.io/cluster-api-machineset'\u001b[0m: \u001b[32m'sno-5dqmr-worker-us-east-2a'\u001b[0m\n",
       "                \u001b[1m}\u001b[0m\n",
       "            \u001b[1m}\u001b[0m,\n",
       "            \u001b[32m'template'\u001b[0m: \u001b[1m{\u001b[0m\n",
       "                \u001b[32m'metadata'\u001b[0m: \u001b[1m{\u001b[0m\n",
       "                    \u001b[32m'labels'\u001b[0m: \u001b[1m{\u001b[0m\n",
       "                        \u001b[32m'machine.openshift.io/cluster-api-cluster'\u001b[0m: \u001b[32m'sno-5dqmr'\u001b[0m,\n",
       "                        \u001b[32m'machine.openshift.io/cluster-api-machine-role'\u001b[0m: \u001b[32m'worker'\u001b[0m,\n",
       "                        \u001b[32m'machine.openshift.io/cluster-api-machine-type'\u001b[0m: \u001b[32m'worker'\u001b[0m,\n",
       "                        \u001b[32m'machine.openshift.io/cluster-api-machineset'\u001b[0m: \u001b[32m'sno-5dqmr-worker-us-east-2a'\u001b[0m\n",
       "                    \u001b[1m}\u001b[0m\n",
       "                \u001b[1m}\u001b[0m,\n",
       "                \u001b[32m'spec'\u001b[0m: \u001b[1m{\u001b[0m\n",
       "                    \u001b[32m'lifecycleHooks'\u001b[0m: \u001b[1m{\u001b[0m\u001b[1m}\u001b[0m,\n",
       "                    \u001b[32m'metadata'\u001b[0m: \u001b[1m{\u001b[0m\u001b[1m}\u001b[0m,\n",
       "                    \u001b[32m'providerSpec'\u001b[0m: \u001b[1m{\u001b[0m\n",
       "                        \u001b[32m'value'\u001b[0m: \u001b[1m{\u001b[0m\n",
       "                            \u001b[32m'ami'\u001b[0m: \u001b[1m{\u001b[0m\u001b[32m'id'\u001b[0m: \u001b[32m'ami-0d4a7b7677c0c883f'\u001b[0m\u001b[1m}\u001b[0m,\n",
       "                            \u001b[32m'apiVersion'\u001b[0m: \u001b[32m'machine.openshift.io/v1beta1'\u001b[0m,\n",
       "                            \u001b[32m'blockDevices'\u001b[0m: \u001b[1m[\u001b[0m\n",
       "                                \u001b[1m{\u001b[0m\n",
       "                                    \u001b[32m'ebs'\u001b[0m: \u001b[1m{\u001b[0m\n",
       "                                        \u001b[32m'encrypted'\u001b[0m: \u001b[3;92mTrue\u001b[0m,\n",
       "                                        \u001b[32m'iops'\u001b[0m: \u001b[1;36m0\u001b[0m,\n",
       "                                        \u001b[32m'kmsKey'\u001b[0m: \u001b[1m{\u001b[0m\u001b[32m'arn'\u001b[0m: \u001b[32m''\u001b[0m\u001b[1m}\u001b[0m,\n",
       "                                        \u001b[32m'volumeSize'\u001b[0m: \u001b[1;36m120\u001b[0m,\n",
       "                                        \u001b[32m'volumeType'\u001b[0m: \u001b[32m'gp3'\u001b[0m\n",
       "                                    \u001b[1m}\u001b[0m\n",
       "                                \u001b[1m}\u001b[0m\n",
       "                            \u001b[1m]\u001b[0m,\n",
       "                            \u001b[32m'capacityReservationId'\u001b[0m: \u001b[32m''\u001b[0m,\n",
       "                            \u001b[32m'credentialsSecret'\u001b[0m: \u001b[1m{\u001b[0m\u001b[32m'name'\u001b[0m: \u001b[32m'aws-cloud-credentials'\u001b[0m\u001b[1m}\u001b[0m,\n",
       "                            \u001b[32m'deviceIndex'\u001b[0m: \u001b[1;36m0\u001b[0m,\n",
       "                            \u001b[32m'iamInstanceProfile'\u001b[0m: \u001b[1m{\u001b[0m\u001b[32m'id'\u001b[0m: \u001b[32m'sno-5dqmr-worker-profile'\u001b[0m\u001b[1m}\u001b[0m,\n",
       "                            \u001b[32m'instanceType'\u001b[0m: \u001b[32m'g5.xlarge'\u001b[0m,\n",
       "                            \u001b[32m'kind'\u001b[0m: \u001b[32m'AWSMachineProviderConfig'\u001b[0m,\n",
       "                            \u001b[32m'metadata'\u001b[0m: \u001b[1m{\u001b[0m\u001b[32m'creationTimestamp'\u001b[0m: \u001b[3;35mNone\u001b[0m\u001b[1m}\u001b[0m,\n",
       "                            \u001b[32m'metadataServiceOptions'\u001b[0m: \u001b[1m{\u001b[0m\u001b[1m}\u001b[0m,\n",
       "                            \u001b[32m'placement'\u001b[0m: \u001b[1m{\u001b[0m\u001b[32m'availabilityZone'\u001b[0m: \u001b[32m'us-east-2a'\u001b[0m, \u001b[32m'region'\u001b[0m: \u001b[32m'us-east-2'\u001b[0m\u001b[1m}\u001b[0m,\n",
       "                            \u001b[32m'securityGroups'\u001b[0m: \u001b[1m[\u001b[0m\n",
       "                                \u001b[1m{\u001b[0m\u001b[32m'filters'\u001b[0m: \u001b[1m[\u001b[0m\u001b[1m{\u001b[0m\u001b[32m'name'\u001b[0m: \u001b[32m'tag:Name'\u001b[0m, \u001b[32m'values'\u001b[0m: \u001b[1m[\u001b[0m\u001b[32m'sno-5dqmr-node'\u001b[0m\u001b[1m]\u001b[0m\u001b[1m}\u001b[0m\u001b[1m]\u001b[0m\u001b[1m}\u001b[0m,\n",
       "                                \u001b[1m{\u001b[0m\u001b[32m'filters'\u001b[0m: \u001b[1m[\u001b[0m\u001b[1m{\u001b[0m\u001b[32m'name'\u001b[0m: \u001b[32m'tag:Name'\u001b[0m, \u001b[32m'values'\u001b[0m: \u001b[1m[\u001b[0m\u001b[32m'sno-5dqmr-lb'\u001b[0m\u001b[1m]\u001b[0m\u001b[1m}\u001b[0m\u001b[1m]\u001b[0m\u001b[1m}\u001b[0m\n",
       "                            \u001b[1m]\u001b[0m,\n",
       "                            \u001b[32m'subnet'\u001b[0m: \u001b[1m{\u001b[0m\n",
       "                                \u001b[32m'filters'\u001b[0m: \u001b[1m[\u001b[0m\n",
       "                                    \u001b[1m{\u001b[0m\u001b[32m'name'\u001b[0m: \u001b[32m'tag:Name'\u001b[0m, \u001b[32m'values'\u001b[0m: \u001b[1m[\u001b[0m\u001b[32m'sno-5dqmr-subnet-private-us-east-2a'\u001b[0m\u001b[1m]\u001b[0m\u001b[1m}\u001b[0m\n",
       "                                \u001b[1m]\u001b[0m\n",
       "                            \u001b[1m}\u001b[0m,\n",
       "                            \u001b[32m'tags'\u001b[0m: \u001b[1m[\u001b[0m\n",
       "                                \u001b[1m{\u001b[0m\u001b[32m'name'\u001b[0m: \u001b[32m'kubernetes.io/cluster/sno-5dqmr'\u001b[0m, \u001b[32m'value'\u001b[0m: \u001b[32m'owned'\u001b[0m\u001b[1m}\u001b[0m,\n",
       "                                \u001b[1m{\u001b[0m\n",
       "                                    \u001b[32m'name'\u001b[0m: \u001b[32m'description'\u001b[0m,\n",
       "                                    \u001b[32m'value'\u001b[0m: \u001b[32m'Product Development and Demo environment for OpenShift'\u001b[0m\n",
       "                                \u001b[1m}\u001b[0m,\n",
       "                                \u001b[1m{\u001b[0m\u001b[32m'name'\u001b[0m: \u001b[32m'owner'\u001b[0m, \u001b[32m'value'\u001b[0m: \u001b[32m'ateam@acme.com'\u001b[0m\u001b[1m}\u001b[0m,\n",
       "                                \u001b[1m{\u001b[0m\u001b[32m'name'\u001b[0m: \u001b[32m'team'\u001b[0m, \u001b[32m'value'\u001b[0m: \u001b[32m'ateam'\u001b[0m\u001b[1m}\u001b[0m,\n",
       "                                \u001b[1m{\u001b[0m\u001b[32m'name'\u001b[0m: \u001b[32m'usage'\u001b[0m, \u001b[32m'value'\u001b[0m: \u001b[32m'Dev'\u001b[0m\u001b[1m}\u001b[0m\n",
       "                            \u001b[1m]\u001b[0m,\n",
       "                            \u001b[32m'userDataSecret'\u001b[0m: \u001b[1m{\u001b[0m\u001b[32m'name'\u001b[0m: \u001b[32m'worker-user-data'\u001b[0m\u001b[1m}\u001b[0m\n",
       "                        \u001b[1m}\u001b[0m\n",
       "                    \u001b[1m}\u001b[0m\n",
       "                \u001b[1m}\u001b[0m\n",
       "            \u001b[1m}\u001b[0m\n",
       "        \u001b[1m}\u001b[0m\n",
       "    \u001b[1m}\u001b[0m\n",
       "\u001b[1m]\u001b[0m\n"
      ]
     },
     "metadata": {},
     "output_type": "display_data"
    }
   ],
   "source": [
    "import jq\n",
    "import json\n",
    "from rich import print\n",
    "\n",
    "with open('source-machineset.json') as f:\n",
    "  machineset_data = json.load(f)\n",
    "\n",
    "transform = \"\"\".spec.template.spec.providerSpec.value.instanceType = \\\"g5.xlarge\\\"\n",
    "  | .metadata.name = \\\"sno-5dqmr-worker-us-east-2a-gpu\\\"\n",
    "  | .spec.replicas = 1\n",
    "  | del(.metadata.selfLink)\n",
    "  | del(.metadata.uid)\n",
    "  | del(.metadata.creationTimestamp)\n",
    "  | del(.metadata.resourceVersion)\n",
    "  | del(.status)\"\"\"\n",
    "\n",
    "transformed_result = jq.all(transform, machineset_data)\n",
    "print(transformed_result)"
   ]
  },
  {
   "cell_type": "markdown",
   "id": "fa36333c-aa26-4393-ac2f-4203c6bf0052",
   "metadata": {},
   "source": [
    "We can see all of the MachineSet details including the AMI, root disk size as well as Security Groups and Networking that we will keep. These were all configured at OpenShift install time.\n",
    "\n",
    "Let's write out our new gpu enabled machineset to a file."
   ]
  },
  {
   "cell_type": "code",
   "execution_count": 7,
   "id": "f52d5515-0978-43ea-8f3e-907309f91379",
   "metadata": {},
   "outputs": [],
   "source": [
    "with open(\"gpu-machineset.json\", \"w\") as file:\n",
    "    file.write(json.dumps(transformed_result[0]))"
   ]
  },
  {
   "cell_type": "markdown",
   "id": "12a6e4bf-f6e7-4bdf-929a-cc7e0f15ddd6",
   "metadata": {},
   "source": [
    "# Create the new machine\n",
    "Using the new Machine specification, we will add the new to the cluster."
   ]
  },
  {
   "cell_type": "code",
   "execution_count": 8,
   "id": "c77580aa-a50d-4d16-87c8-5b62cf07a7f0",
   "metadata": {},
   "outputs": [
    {
     "name": "stdout",
     "output_type": "stream",
     "text": [
      "machineset.machine.openshift.io/sno-5dqmr-worker-us-east-2a-gpu created\n"
     ]
    }
   ],
   "source": [
    "!oc create -f gpu-machineset.json"
   ]
  },
  {
   "cell_type": "markdown",
   "id": "548f7e71-4276-4bdd-960d-e5f41fd6d31e",
   "metadata": {},
   "source": [
    "### Observe the results\n",
    "\n",
    "Provisioning a new machine takes about **5–10 minutes**. Track the progress in the OpenShift console:\n",
    "\n",
    "1. In the navigation pane, choose **Compute > MachineSets**.  \n",
    "   Confirm that the new MachineSet appears.\n",
    "2. Select **Compute > Machines**.  \n",
    "   Watch the machine progress through its lifecycle. When provisioning completes, the status changes to **Provisioned as Node**.\n",
    "   You can also see the Node appeat in the Compute > Node window.\n",
    "4. Click the new Machine.\n",
    "   Explore the details of the new Machine.\n",
    "\n",
    "<img src=\"images/gpu-machine-set.png\"\n",
    "     alt=\"Machine creation progress in the Machines list\"\n",
    "     style=\"width:50%;\">"
   ]
  },
  {
   "cell_type": "markdown",
   "id": "99c398a6-3f88-4e22-89c6-c220ac6d5458",
   "metadata": {},
   "source": [
    "## AWS Quota issues\n",
    "\n",
    "<div class=\"alert alert-block alert-warning\">\n",
    "<b>WARNING:</b> Only do the following - if you see a warning about a lack of sufficient quota.\n",
    "</div>\n",
    "\n",
    "There are occasions where the AWS account does not have sufficient quota to provision the node, or that there are not enough of the EC2-instance types available in the selected Availability Zone. The following steps will help address these problems.\n",
    "\n",
    "To review the reason a node fails to provision, in the *Compute* menu, \n",
    "1. Click *Machine*  \n",
    "   OpenShift displays the Machines in the cluster\n",
    "2. Click the machine that has failed to provision.  \n",
    "   Observe failure reason described in the *Conditions* section of the Machine's details\n",
    "\n",
    "<img src=\"images/worker-insufficient-resources.png\"\n",
    "     alt=\"Insufficient AWS quota available\"\n",
    "     style=\"width:50%;\">\n",
    "\n",
    "To delete the failed Machine and create a machine in a different Availability Zone, open the notebook <a href=\"https://github.com/odh-labs/rhoai-roadshow/blob/main/site/docs/6-gpuaas/notebooks/Level1_quota_issue.ipynb\" target=\"_blank\">Level1_quota_issue.ipynb</a>\n",
    "\n",
    "<div class=\"alert alert-block alert-warning\">\n",
    "<b>WARNING:</b> End of warning.\n",
    "</div>"
   ]
  },
  {
   "cell_type": "markdown",
   "id": "6a6fe27d-1f6c-4d25-95bc-63d83eda901c",
   "metadata": {},
   "source": [
    "After a bit of time .. let's check our new node has been added to the cluster correctly. You should see it as the node with the `worker` ROLE."
   ]
  },
  {
   "cell_type": "code",
   "execution_count": 9,
   "id": "a0af3935-bac9-4e0e-8230-4e1ee68ce36a",
   "metadata": {},
   "outputs": [
    {
     "name": "stdout",
     "output_type": "stream",
     "text": [
      "NAME                                        STATUS     ROLES                         AGE     VERSION\n",
      "ip-10-0-15-75.us-east-2.compute.internal    NotReady   worker                        35s     v1.32.5\n",
      "ip-10-0-29-181.us-east-2.compute.internal   Ready      control-plane,master,worker   4d19h   v1.32.5\n"
     ]
    }
   ],
   "source": [
    "!oc get nodes"
   ]
  },
  {
   "cell_type": "markdown",
   "id": "e9bdf1ec-9233-4d18-bafc-982fd0c80155",
   "metadata": {},
   "source": [
    "We can also check the machine types again."
   ]
  },
  {
   "cell_type": "code",
   "execution_count": 10,
   "id": "3f234345-7c43-4f94-bb1a-4004dd5e4e54",
   "metadata": {},
   "outputs": [
    {
     "name": "stdout",
     "output_type": "stream",
     "text": [
      "NAMESPACE               NAME                                    PHASE     TYPE         REGION      ZONE         AGE\n",
      "openshift-machine-api   sno-5dqmr-master-0                      Running   g6.8xlarge   us-east-2   us-east-2a   4d19h\n",
      "openshift-machine-api   sno-5dqmr-worker-us-east-2a-gpu-kcx4p   Running   g5.xlarge    us-east-2   us-east-2a   4m16s\n"
     ]
    }
   ],
   "source": [
    "!oc get machines.machine.openshift.io -A"
   ]
  },
  {
   "cell_type": "markdown",
   "id": "8545fafa-6989-4281-85fe-0fe1a3ea04f8",
   "metadata": {},
   "source": [
    "<div class=\"alert alert-block alert-success\">\n",
    "<b>Success:</b> We have successfully added a new GPU worker node to our cluster.\n",
    "</div>"
   ]
  },
  {
   "cell_type": "markdown",
   "id": "512f58b0",
   "metadata": {},
   "source": [
    "Continue to the [next notebook](./Level2_gpu_operator.ipynb) to learn how to configure the gpu operator."
   ]
  }
 ],
 "metadata": {
  "kernelspec": {
   "display_name": "venv (3.13.7)",
   "language": "python",
   "name": "python3"
  },
  "language_info": {
   "codemirror_mode": {
    "name": "ipython",
    "version": 3
   },
   "file_extension": ".py",
   "mimetype": "text/x-python",
   "name": "python",
   "nbconvert_exporter": "python",
   "pygments_lexer": "ipython3",
   "version": "3.13.7"
  }
 },
 "nbformat": 4,
 "nbformat_minor": 5
}
